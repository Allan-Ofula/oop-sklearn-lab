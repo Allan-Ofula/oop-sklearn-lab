











from sklearn.datasets import load_iris

X, y = load_iris(return_X_y=True, as_frame=True)


X


y











# Import

# Instantiate

# Fit






# Import

# Instantiate

# Fit






# Your code here





# Your code here





# Your code here





# Your code here





# Your code here





"""
Your answer here
"""



